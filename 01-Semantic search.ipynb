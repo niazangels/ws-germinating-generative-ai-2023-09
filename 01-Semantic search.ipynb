{
 "cells": [
  {
   "cell_type": "code",
   "execution_count": 1,
   "id": "7559f4e3-85e3-44bb-8324-9e545120d232",
   "metadata": {},
   "outputs": [],
   "source": [
    "import os\n",
    "import openai\n",
    "\n",
    "import pandas as pd\n",
    "\n",
    "from langchain.embeddings.openai import OpenAIEmbeddings"
   ]
  },
  {
   "cell_type": "markdown",
   "id": "68416614-c235-4ef2-b390-ce5dde594a9d",
   "metadata": {},
   "source": [
    "⚠️⚠️⚠️ **HEADS UP**: You need to get an OpenAI API key for the following to work.\n",
    "\n",
    "                                 \n",
    "How to get an OpenAI API Key: \n",
    "https://www.maisieai.com/help/how-to-get-an-openai-api-key-for-chatgpt"
   ]
  },
  {
   "cell_type": "code",
   "execution_count": null,
   "id": "7d5d54ce-b099-4517-8f26-47be7b657b63",
   "metadata": {},
   "outputs": [],
   "source": [
    "OPENAI_API_KEY = 'sk-00000000000sk-J843jy5RdT8tW0J3Tq6ZT3BlbkFJd5De7FgG5yDKB9AmuWFt000000000' # Change this to your key\n",
    "\n",
    "os.environ[\"OPENAI_API_KEY\"] = OPENAI_API_KEY"
   ]
  },
  {
   "cell_type": "code",
   "execution_count": 3,
   "id": "e696be73-ac97-4297-9de6-a28888e00a73",
   "metadata": {},
   "outputs": [],
   "source": [
    "embeddings = OpenAIEmbeddings(model=\"text-search-ada-doc-001\",)"
   ]
  },
  {
   "cell_type": "markdown",
   "id": "c4268047-818a-49b8-a39a-a11838b461f5",
   "metadata": {},
   "source": [
    "## Let's try embedding a single string"
   ]
  },
  {
   "cell_type": "markdown",
   "id": "42007895-eedd-409a-b3f0-a35936475420",
   "metadata": {},
   "source": [
    "Here's a great introduction to embeddings: \n",
    "\n",
    "https://www.youtube.com/watch?v=A8HEPBdKVMA"
   ]
  },
  {
   "cell_type": "code",
   "execution_count": 4,
   "id": "6ac094b2-d270-4a14-a726-7de68578c062",
   "metadata": {},
   "outputs": [],
   "source": [
    "text = \"Hello world\"\n",
    "query_result = embeddings.embed_query(text)"
   ]
  },
  {
   "cell_type": "code",
   "execution_count": 5,
   "id": "3c445c88-93cc-46a0-bfb6-6b43bd0242a1",
   "metadata": {},
   "outputs": [
    {
     "name": "stdout",
     "output_type": "stream",
     "text": [
      "[-3.692254236655495e-05, 0.04646899626594531, -0.013200964061653775, 0.0028441711790668364, 0.0019094788313712397, 0.01489493740689739, 0.011226331997380481, -0.04338175501323181, 0.05212225477080107, -0.03626506089435034]\n"
     ]
    }
   ],
   "source": [
    "# This is a big list of numbers\n",
    "print(query_result[:10])"
   ]
  },
  {
   "cell_type": "code",
   "execution_count": 6,
   "id": "d5a7e6e0-60f3-4a4a-abb6-412f7a8b9091",
   "metadata": {},
   "outputs": [
    {
     "data": {
      "text/plain": [
       "1024"
      ]
     },
     "execution_count": 6,
     "metadata": {},
     "output_type": "execute_result"
    }
   ],
   "source": [
    "# Our embedding has 1024 dimensions \n",
    "len(query_result)"
   ]
  },
  {
   "cell_type": "markdown",
   "id": "8cc001b7-80b3-4679-b91b-3db247340cf7",
   "metadata": {},
   "source": [
    "## Let's take a catalog and try to create embeddings for each entry"
   ]
  },
  {
   "cell_type": "code",
   "execution_count": 7,
   "id": "e37da033-17a7-4f69-a6f0-bb12863f4015",
   "metadata": {},
   "outputs": [
    {
     "data": {
      "text/html": [
       "<div>\n",
       "<style scoped>\n",
       "    .dataframe tbody tr th:only-of-type {\n",
       "        vertical-align: middle;\n",
       "    }\n",
       "\n",
       "    .dataframe tbody tr th {\n",
       "        vertical-align: top;\n",
       "    }\n",
       "\n",
       "    .dataframe thead th {\n",
       "        text-align: right;\n",
       "    }\n",
       "</style>\n",
       "<table border=\"1\" class=\"dataframe\">\n",
       "  <thead>\n",
       "    <tr style=\"text-align: right;\">\n",
       "      <th></th>\n",
       "      <th>Microprocessor</th>\n",
       "      <th>Description</th>\n",
       "    </tr>\n",
       "  </thead>\n",
       "  <tbody>\n",
       "    <tr>\n",
       "      <th>0</th>\n",
       "      <td>Intel 8086</td>\n",
       "      <td>The first 16-bit microprocessor, introduced in...</td>\n",
       "    </tr>\n",
       "    <tr>\n",
       "      <th>1</th>\n",
       "      <td>Intel 80386 (i386)</td>\n",
       "      <td>A 32-bit microprocessor, part of the x86 famil...</td>\n",
       "    </tr>\n",
       "    <tr>\n",
       "      <th>2</th>\n",
       "      <td>Intel Pentium</td>\n",
       "      <td>A highly successful microprocessor family know...</td>\n",
       "    </tr>\n",
       "    <tr>\n",
       "      <th>3</th>\n",
       "      <td>AMD Ryzen</td>\n",
       "      <td>Modern high-performance processors known for t...</td>\n",
       "    </tr>\n",
       "    <tr>\n",
       "      <th>4</th>\n",
       "      <td>ARM Cortex-A series</td>\n",
       "      <td>A family of processors designed for mobile dev...</td>\n",
       "    </tr>\n",
       "    <tr>\n",
       "      <th>5</th>\n",
       "      <td>IBM POWER9</td>\n",
       "      <td>Used in high-performance computing and data ce...</td>\n",
       "    </tr>\n",
       "    <tr>\n",
       "      <th>6</th>\n",
       "      <td>Apple M1</td>\n",
       "      <td>Apple's ARM-based processor, known for its per...</td>\n",
       "    </tr>\n",
       "    <tr>\n",
       "      <th>7</th>\n",
       "      <td>Qualcomm Snapdragon</td>\n",
       "      <td>Found in many Android devices, known for its i...</td>\n",
       "    </tr>\n",
       "    <tr>\n",
       "      <th>8</th>\n",
       "      <td>Raspberry Pi (ARM)</td>\n",
       "      <td>A low-cost, single-board computer with ARM-bas...</td>\n",
       "    </tr>\n",
       "    <tr>\n",
       "      <th>9</th>\n",
       "      <td>NVIDIA Tegra</td>\n",
       "      <td>Used in mobile devices and embedded systems, k...</td>\n",
       "    </tr>\n",
       "  </tbody>\n",
       "</table>\n",
       "</div>"
      ],
      "text/plain": [
       "        Microprocessor                                        Description\n",
       "0           Intel 8086  The first 16-bit microprocessor, introduced in...\n",
       "1   Intel 80386 (i386)  A 32-bit microprocessor, part of the x86 famil...\n",
       "2        Intel Pentium  A highly successful microprocessor family know...\n",
       "3            AMD Ryzen  Modern high-performance processors known for t...\n",
       "4  ARM Cortex-A series  A family of processors designed for mobile dev...\n",
       "5           IBM POWER9  Used in high-performance computing and data ce...\n",
       "6             Apple M1  Apple's ARM-based processor, known for its per...\n",
       "7  Qualcomm Snapdragon  Found in many Android devices, known for its i...\n",
       "8   Raspberry Pi (ARM)  A low-cost, single-board computer with ARM-bas...\n",
       "9         NVIDIA Tegra  Used in mobile devices and embedded systems, k..."
      ]
     },
     "execution_count": 7,
     "metadata": {},
     "output_type": "execute_result"
    }
   ],
   "source": [
    "df_processors = pd.read_csv(\"./processors.csv\")\n",
    "df_processors"
   ]
  },
  {
   "cell_type": "markdown",
   "id": "d776926a-ceeb-40e2-84e8-7acc6f98fac1",
   "metadata": {},
   "source": [
    "First we will combine the title and description to a single string of the format `\"Title: Description\"`. \n",
    "\n",
    "We will then create embeddings for this string.\n"
   ]
  },
  {
   "cell_type": "code",
   "execution_count": 8,
   "id": "c52c9b64-e45e-4b01-a51d-2c019bcf6ba5",
   "metadata": {},
   "outputs": [
    {
     "data": {
      "text/html": [
       "<div>\n",
       "<style scoped>\n",
       "    .dataframe tbody tr th:only-of-type {\n",
       "        vertical-align: middle;\n",
       "    }\n",
       "\n",
       "    .dataframe tbody tr th {\n",
       "        vertical-align: top;\n",
       "    }\n",
       "\n",
       "    .dataframe thead th {\n",
       "        text-align: right;\n",
       "    }\n",
       "</style>\n",
       "<table border=\"1\" class=\"dataframe\">\n",
       "  <thead>\n",
       "    <tr style=\"text-align: right;\">\n",
       "      <th></th>\n",
       "      <th>Microprocessor</th>\n",
       "      <th>Description</th>\n",
       "      <th>summary</th>\n",
       "    </tr>\n",
       "  </thead>\n",
       "  <tbody>\n",
       "    <tr>\n",
       "      <th>0</th>\n",
       "      <td>Intel 8086</td>\n",
       "      <td>The first 16-bit microprocessor, introduced in...</td>\n",
       "      <td>Intel 8086: The first 16-bit microprocessor, i...</td>\n",
       "    </tr>\n",
       "    <tr>\n",
       "      <th>1</th>\n",
       "      <td>Intel 80386 (i386)</td>\n",
       "      <td>A 32-bit microprocessor, part of the x86 famil...</td>\n",
       "      <td>Intel 80386 (i386): A 32-bit microprocessor, p...</td>\n",
       "    </tr>\n",
       "    <tr>\n",
       "      <th>2</th>\n",
       "      <td>Intel Pentium</td>\n",
       "      <td>A highly successful microprocessor family know...</td>\n",
       "      <td>Intel Pentium: A highly successful microproces...</td>\n",
       "    </tr>\n",
       "    <tr>\n",
       "      <th>3</th>\n",
       "      <td>AMD Ryzen</td>\n",
       "      <td>Modern high-performance processors known for t...</td>\n",
       "      <td>AMD Ryzen: Modern high-performance processors ...</td>\n",
       "    </tr>\n",
       "    <tr>\n",
       "      <th>4</th>\n",
       "      <td>ARM Cortex-A series</td>\n",
       "      <td>A family of processors designed for mobile dev...</td>\n",
       "      <td>ARM Cortex-A series: A family of processors de...</td>\n",
       "    </tr>\n",
       "    <tr>\n",
       "      <th>5</th>\n",
       "      <td>IBM POWER9</td>\n",
       "      <td>Used in high-performance computing and data ce...</td>\n",
       "      <td>IBM POWER9: Used in high-performance computing...</td>\n",
       "    </tr>\n",
       "    <tr>\n",
       "      <th>6</th>\n",
       "      <td>Apple M1</td>\n",
       "      <td>Apple's ARM-based processor, known for its per...</td>\n",
       "      <td>Apple M1: Apple's ARM-based processor, known f...</td>\n",
       "    </tr>\n",
       "    <tr>\n",
       "      <th>7</th>\n",
       "      <td>Qualcomm Snapdragon</td>\n",
       "      <td>Found in many Android devices, known for its i...</td>\n",
       "      <td>Qualcomm Snapdragon: Found in many Android dev...</td>\n",
       "    </tr>\n",
       "    <tr>\n",
       "      <th>8</th>\n",
       "      <td>Raspberry Pi (ARM)</td>\n",
       "      <td>A low-cost, single-board computer with ARM-bas...</td>\n",
       "      <td>Raspberry Pi (ARM): A low-cost, single-board c...</td>\n",
       "    </tr>\n",
       "    <tr>\n",
       "      <th>9</th>\n",
       "      <td>NVIDIA Tegra</td>\n",
       "      <td>Used in mobile devices and embedded systems, k...</td>\n",
       "      <td>NVIDIA Tegra: Used in mobile devices and embed...</td>\n",
       "    </tr>\n",
       "  </tbody>\n",
       "</table>\n",
       "</div>"
      ],
      "text/plain": [
       "        Microprocessor                                        Description  \\\n",
       "0           Intel 8086  The first 16-bit microprocessor, introduced in...   \n",
       "1   Intel 80386 (i386)  A 32-bit microprocessor, part of the x86 famil...   \n",
       "2        Intel Pentium  A highly successful microprocessor family know...   \n",
       "3            AMD Ryzen  Modern high-performance processors known for t...   \n",
       "4  ARM Cortex-A series  A family of processors designed for mobile dev...   \n",
       "5           IBM POWER9  Used in high-performance computing and data ce...   \n",
       "6             Apple M1  Apple's ARM-based processor, known for its per...   \n",
       "7  Qualcomm Snapdragon  Found in many Android devices, known for its i...   \n",
       "8   Raspberry Pi (ARM)  A low-cost, single-board computer with ARM-bas...   \n",
       "9         NVIDIA Tegra  Used in mobile devices and embedded systems, k...   \n",
       "\n",
       "                                             summary  \n",
       "0  Intel 8086: The first 16-bit microprocessor, i...  \n",
       "1  Intel 80386 (i386): A 32-bit microprocessor, p...  \n",
       "2  Intel Pentium: A highly successful microproces...  \n",
       "3  AMD Ryzen: Modern high-performance processors ...  \n",
       "4  ARM Cortex-A series: A family of processors de...  \n",
       "5  IBM POWER9: Used in high-performance computing...  \n",
       "6  Apple M1: Apple's ARM-based processor, known f...  \n",
       "7  Qualcomm Snapdragon: Found in many Android dev...  \n",
       "8  Raspberry Pi (ARM): A low-cost, single-board c...  \n",
       "9  NVIDIA Tegra: Used in mobile devices and embed...  "
      ]
     },
     "execution_count": 8,
     "metadata": {},
     "output_type": "execute_result"
    }
   ],
   "source": [
    "df_processors[\"summary\"] = df_processors['Microprocessor'] + \": \" + df_processors['Description']\n",
    "df_processors"
   ]
  },
  {
   "cell_type": "markdown",
   "id": "a87de645-c340-40da-93e5-45a346f332b5",
   "metadata": {},
   "source": [
    "## Find embeddings for each of the \"summary\" text we created"
   ]
  },
  {
   "cell_type": "code",
   "execution_count": 9,
   "id": "5f2161e6-71a2-4fa1-9544-bee30ada5ef1",
   "metadata": {},
   "outputs": [
    {
     "data": {
      "text/html": [
       "<div>\n",
       "<style scoped>\n",
       "    .dataframe tbody tr th:only-of-type {\n",
       "        vertical-align: middle;\n",
       "    }\n",
       "\n",
       "    .dataframe tbody tr th {\n",
       "        vertical-align: top;\n",
       "    }\n",
       "\n",
       "    .dataframe thead th {\n",
       "        text-align: right;\n",
       "    }\n",
       "</style>\n",
       "<table border=\"1\" class=\"dataframe\">\n",
       "  <thead>\n",
       "    <tr style=\"text-align: right;\">\n",
       "      <th></th>\n",
       "      <th>Microprocessor</th>\n",
       "      <th>Description</th>\n",
       "      <th>summary</th>\n",
       "      <th>embedding</th>\n",
       "    </tr>\n",
       "  </thead>\n",
       "  <tbody>\n",
       "    <tr>\n",
       "      <th>0</th>\n",
       "      <td>Intel 8086</td>\n",
       "      <td>The first 16-bit microprocessor, introduced in...</td>\n",
       "      <td>Intel 8086: The first 16-bit microprocessor, i...</td>\n",
       "      <td>[-0.012585897130804023, 0.023532795035589537, ...</td>\n",
       "    </tr>\n",
       "    <tr>\n",
       "      <th>1</th>\n",
       "      <td>Intel 80386 (i386)</td>\n",
       "      <td>A 32-bit microprocessor, part of the x86 famil...</td>\n",
       "      <td>Intel 80386 (i386): A 32-bit microprocessor, p...</td>\n",
       "      <td>[-6.49205707325187e-05, 0.026906083312139274, ...</td>\n",
       "    </tr>\n",
       "    <tr>\n",
       "      <th>2</th>\n",
       "      <td>Intel Pentium</td>\n",
       "      <td>A highly successful microprocessor family know...</td>\n",
       "      <td>Intel Pentium: A highly successful microproces...</td>\n",
       "      <td>[-0.007438277610880901, 0.004308385184397193, ...</td>\n",
       "    </tr>\n",
       "    <tr>\n",
       "      <th>3</th>\n",
       "      <td>AMD Ryzen</td>\n",
       "      <td>Modern high-performance processors known for t...</td>\n",
       "      <td>AMD Ryzen: Modern high-performance processors ...</td>\n",
       "      <td>[-0.0036651403856808123, 0.011632280492034271,...</td>\n",
       "    </tr>\n",
       "    <tr>\n",
       "      <th>4</th>\n",
       "      <td>ARM Cortex-A series</td>\n",
       "      <td>A family of processors designed for mobile dev...</td>\n",
       "      <td>ARM Cortex-A series: A family of processors de...</td>\n",
       "      <td>[-0.026204830037545337, 0.013215189800663944, ...</td>\n",
       "    </tr>\n",
       "    <tr>\n",
       "      <th>5</th>\n",
       "      <td>IBM POWER9</td>\n",
       "      <td>Used in high-performance computing and data ce...</td>\n",
       "      <td>IBM POWER9: Used in high-performance computing...</td>\n",
       "      <td>[0.004770409163829388, 0.0011287585006871457, ...</td>\n",
       "    </tr>\n",
       "    <tr>\n",
       "      <th>6</th>\n",
       "      <td>Apple M1</td>\n",
       "      <td>Apple's ARM-based processor, known for its per...</td>\n",
       "      <td>Apple M1: Apple's ARM-based processor, known f...</td>\n",
       "      <td>[-0.03232243370008354, 0.015615646208767934, 0...</td>\n",
       "    </tr>\n",
       "    <tr>\n",
       "      <th>7</th>\n",
       "      <td>Qualcomm Snapdragon</td>\n",
       "      <td>Found in many Android devices, known for its i...</td>\n",
       "      <td>Qualcomm Snapdragon: Found in many Android dev...</td>\n",
       "      <td>[-0.011854934040482542, 0.023709868080965084, ...</td>\n",
       "    </tr>\n",
       "    <tr>\n",
       "      <th>8</th>\n",
       "      <td>Raspberry Pi (ARM)</td>\n",
       "      <td>A low-cost, single-board computer with ARM-bas...</td>\n",
       "      <td>Raspberry Pi (ARM): A low-cost, single-board c...</td>\n",
       "      <td>[-0.014947313203693384, 0.02705044374934957, 0...</td>\n",
       "    </tr>\n",
       "    <tr>\n",
       "      <th>9</th>\n",
       "      <td>NVIDIA Tegra</td>\n",
       "      <td>Used in mobile devices and embedded systems, k...</td>\n",
       "      <td>NVIDIA Tegra: Used in mobile devices and embed...</td>\n",
       "      <td>[-0.016137256936813425, 0.009999975387625605, ...</td>\n",
       "    </tr>\n",
       "  </tbody>\n",
       "</table>\n",
       "</div>"
      ],
      "text/plain": [
       "        Microprocessor                                        Description  \\\n",
       "0           Intel 8086  The first 16-bit microprocessor, introduced in...   \n",
       "1   Intel 80386 (i386)  A 32-bit microprocessor, part of the x86 famil...   \n",
       "2        Intel Pentium  A highly successful microprocessor family know...   \n",
       "3            AMD Ryzen  Modern high-performance processors known for t...   \n",
       "4  ARM Cortex-A series  A family of processors designed for mobile dev...   \n",
       "5           IBM POWER9  Used in high-performance computing and data ce...   \n",
       "6             Apple M1  Apple's ARM-based processor, known for its per...   \n",
       "7  Qualcomm Snapdragon  Found in many Android devices, known for its i...   \n",
       "8   Raspberry Pi (ARM)  A low-cost, single-board computer with ARM-bas...   \n",
       "9         NVIDIA Tegra  Used in mobile devices and embedded systems, k...   \n",
       "\n",
       "                                             summary  \\\n",
       "0  Intel 8086: The first 16-bit microprocessor, i...   \n",
       "1  Intel 80386 (i386): A 32-bit microprocessor, p...   \n",
       "2  Intel Pentium: A highly successful microproces...   \n",
       "3  AMD Ryzen: Modern high-performance processors ...   \n",
       "4  ARM Cortex-A series: A family of processors de...   \n",
       "5  IBM POWER9: Used in high-performance computing...   \n",
       "6  Apple M1: Apple's ARM-based processor, known f...   \n",
       "7  Qualcomm Snapdragon: Found in many Android dev...   \n",
       "8  Raspberry Pi (ARM): A low-cost, single-board c...   \n",
       "9  NVIDIA Tegra: Used in mobile devices and embed...   \n",
       "\n",
       "                                           embedding  \n",
       "0  [-0.012585897130804023, 0.023532795035589537, ...  \n",
       "1  [-6.49205707325187e-05, 0.026906083312139274, ...  \n",
       "2  [-0.007438277610880901, 0.004308385184397193, ...  \n",
       "3  [-0.0036651403856808123, 0.011632280492034271,...  \n",
       "4  [-0.026204830037545337, 0.013215189800663944, ...  \n",
       "5  [0.004770409163829388, 0.0011287585006871457, ...  \n",
       "6  [-0.03232243370008354, 0.015615646208767934, 0...  \n",
       "7  [-0.011854934040482542, 0.023709868080965084, ...  \n",
       "8  [-0.014947313203693384, 0.02705044374934957, 0...  \n",
       "9  [-0.016137256936813425, 0.009999975387625605, ...  "
      ]
     },
     "execution_count": 9,
     "metadata": {},
     "output_type": "execute_result"
    }
   ],
   "source": [
    "df_processors['embedding'] = df_processors['summary'].apply(lambda text: embeddings.embed_query(text))\n",
    "df_processors"
   ]
  },
  {
   "cell_type": "code",
   "execution_count": 10,
   "id": "49cd1f91-89f1-49b3-b758-854f52064410",
   "metadata": {},
   "outputs": [],
   "source": [
    "## Now we write some functions to help with searching"
   ]
  },
  {
   "cell_type": "code",
   "execution_count": 11,
   "id": "e8b4d589-00fa-491e-afd8-60bc64cfd825",
   "metadata": {},
   "outputs": [],
   "source": [
    "import numpy as np\n",
    "from numpy.linalg import norm"
   ]
  },
  {
   "cell_type": "code",
   "execution_count": 12,
   "id": "e6023108-20db-4df7-af74-a7085796c150",
   "metadata": {},
   "outputs": [],
   "source": [
    "def cosine(a ,b):\n",
    "    return np.dot(a, b)/(norm(a)*norm(b))    "
   ]
  },
  {
   "cell_type": "code",
   "execution_count": 13,
   "id": "42243cc3-f903-4f34-a133-262ea22c3d61",
   "metadata": {},
   "outputs": [],
   "source": [
    "def search_with_embeddings(q, df):\n",
    "    \"\"\"Search using cosine similarity between document and query embedding \"\"\"\n",
    "    df = df.copy()\n",
    "    q_emb = embeddings.embed_query(q.lower())\n",
    "    df['similarities'] = df['embedding'].apply(lambda x: cosine(q_emb, x))\n",
    "    res = df.sort_values('similarities', ascending=False).head(3)\n",
    "    res = res[['Microprocessor', 'Description', 'similarities']]\n",
    "    return res"
   ]
  },
  {
   "cell_type": "code",
   "execution_count": 14,
   "id": "c0084f6b-a71a-42d1-85ed-fef487e28d87",
   "metadata": {},
   "outputs": [],
   "source": [
    "def search_with_common_words(q, df):\n",
    "    \"\"\"Search using words common in the query and the documents\"\"\"\n",
    "    df = df.copy()\n",
    "    df['summary'] = df['summary'].apply(lambda x: x.lower())\n",
    "    df['common'] = df['summary'].apply(lambda x: set(x.split()).intersection(q.lower().split()))\n",
    "    df['similarities'] = df['common'].apply(len)\n",
    "    df = df[df['similarities'] > 0]\n",
    "    res = df.sort_values('similarities', ascending=False).head(3)\n",
    "    return res[['Microprocessor', 'Description', 'similarities']]"
   ]
  },
  {
   "cell_type": "markdown",
   "id": "507cd100-7e93-4315-9f9b-545dbbc567d7",
   "metadata": {},
   "source": [
    "## Standard text search (using common words)"
   ]
  },
  {
   "cell_type": "code",
   "execution_count": 15,
   "id": "bcd46d7a-61c1-42d6-b86a-513c1eb95482",
   "metadata": {
    "scrolled": true
   },
   "outputs": [
    {
     "data": {
      "text/html": [
       "<div>\n",
       "<style scoped>\n",
       "    .dataframe tbody tr th:only-of-type {\n",
       "        vertical-align: middle;\n",
       "    }\n",
       "\n",
       "    .dataframe tbody tr th {\n",
       "        vertical-align: top;\n",
       "    }\n",
       "\n",
       "    .dataframe thead th {\n",
       "        text-align: right;\n",
       "    }\n",
       "</style>\n",
       "<table border=\"1\" class=\"dataframe\">\n",
       "  <thead>\n",
       "    <tr style=\"text-align: right;\">\n",
       "      <th></th>\n",
       "      <th>Microprocessor</th>\n",
       "      <th>Description</th>\n",
       "      <th>similarities</th>\n",
       "    </tr>\n",
       "  </thead>\n",
       "  <tbody>\n",
       "    <tr>\n",
       "      <th>0</th>\n",
       "      <td>Intel 8086</td>\n",
       "      <td>The first 16-bit microprocessor, introduced in...</td>\n",
       "      <td>1</td>\n",
       "    </tr>\n",
       "    <tr>\n",
       "      <th>1</th>\n",
       "      <td>Intel 80386 (i386)</td>\n",
       "      <td>A 32-bit microprocessor, part of the x86 famil...</td>\n",
       "      <td>1</td>\n",
       "    </tr>\n",
       "    <tr>\n",
       "      <th>2</th>\n",
       "      <td>Intel Pentium</td>\n",
       "      <td>A highly successful microprocessor family know...</td>\n",
       "      <td>1</td>\n",
       "    </tr>\n",
       "  </tbody>\n",
       "</table>\n",
       "</div>"
      ],
      "text/plain": [
       "       Microprocessor                                        Description  \\\n",
       "0          Intel 8086  The first 16-bit microprocessor, introduced in...   \n",
       "1  Intel 80386 (i386)  A 32-bit microprocessor, part of the x86 famil...   \n",
       "2       Intel Pentium  A highly successful microprocessor family know...   \n",
       "\n",
       "   similarities  \n",
       "0             1  \n",
       "1             1  \n",
       "2             1  "
      ]
     },
     "execution_count": 15,
     "metadata": {},
     "output_type": "execute_result"
    }
   ],
   "source": [
    "search_with_common_words(\"Intel\", df_processors)"
   ]
  },
  {
   "cell_type": "code",
   "execution_count": 16,
   "id": "ab0f99bd-b355-4cc3-81e9-76e24d945fa8",
   "metadata": {},
   "outputs": [
    {
     "data": {
      "text/html": [
       "<div>\n",
       "<style scoped>\n",
       "    .dataframe tbody tr th:only-of-type {\n",
       "        vertical-align: middle;\n",
       "    }\n",
       "\n",
       "    .dataframe tbody tr th {\n",
       "        vertical-align: top;\n",
       "    }\n",
       "\n",
       "    .dataframe thead th {\n",
       "        text-align: right;\n",
       "    }\n",
       "</style>\n",
       "<table border=\"1\" class=\"dataframe\">\n",
       "  <thead>\n",
       "    <tr style=\"text-align: right;\">\n",
       "      <th></th>\n",
       "      <th>Microprocessor</th>\n",
       "      <th>Description</th>\n",
       "      <th>similarities</th>\n",
       "    </tr>\n",
       "  </thead>\n",
       "  <tbody>\n",
       "  </tbody>\n",
       "</table>\n",
       "</div>"
      ],
      "text/plain": [
       "Empty DataFrame\n",
       "Columns: [Microprocessor, Description, similarities]\n",
       "Index: []"
      ]
     },
     "execution_count": 16,
     "metadata": {},
     "output_type": "execute_result"
    }
   ],
   "source": [
    "search_with_common_words(\"phone chip\", df_processors)"
   ]
  },
  {
   "cell_type": "markdown",
   "id": "899557e1-9696-403b-9d00-6c6a14dde0b8",
   "metadata": {},
   "source": [
    "## Semantic search (using embeddings)"
   ]
  },
  {
   "cell_type": "code",
   "execution_count": 17,
   "id": "a11c698c-56d2-4017-9400-632e7fce2eeb",
   "metadata": {},
   "outputs": [
    {
     "data": {
      "text/html": [
       "<div>\n",
       "<style scoped>\n",
       "    .dataframe tbody tr th:only-of-type {\n",
       "        vertical-align: middle;\n",
       "    }\n",
       "\n",
       "    .dataframe tbody tr th {\n",
       "        vertical-align: top;\n",
       "    }\n",
       "\n",
       "    .dataframe thead th {\n",
       "        text-align: right;\n",
       "    }\n",
       "</style>\n",
       "<table border=\"1\" class=\"dataframe\">\n",
       "  <thead>\n",
       "    <tr style=\"text-align: right;\">\n",
       "      <th></th>\n",
       "      <th>Microprocessor</th>\n",
       "      <th>Description</th>\n",
       "      <th>similarities</th>\n",
       "    </tr>\n",
       "  </thead>\n",
       "  <tbody>\n",
       "    <tr>\n",
       "      <th>7</th>\n",
       "      <td>Qualcomm Snapdragon</td>\n",
       "      <td>Found in many Android devices, known for its i...</td>\n",
       "      <td>0.613546</td>\n",
       "    </tr>\n",
       "    <tr>\n",
       "      <th>9</th>\n",
       "      <td>NVIDIA Tegra</td>\n",
       "      <td>Used in mobile devices and embedded systems, k...</td>\n",
       "      <td>0.598488</td>\n",
       "    </tr>\n",
       "    <tr>\n",
       "      <th>1</th>\n",
       "      <td>Intel 80386 (i386)</td>\n",
       "      <td>A 32-bit microprocessor, part of the x86 famil...</td>\n",
       "      <td>0.590407</td>\n",
       "    </tr>\n",
       "  </tbody>\n",
       "</table>\n",
       "</div>"
      ],
      "text/plain": [
       "        Microprocessor                                        Description  \\\n",
       "7  Qualcomm Snapdragon  Found in many Android devices, known for its i...   \n",
       "9         NVIDIA Tegra  Used in mobile devices and embedded systems, k...   \n",
       "1   Intel 80386 (i386)  A 32-bit microprocessor, part of the x86 famil...   \n",
       "\n",
       "   similarities  \n",
       "7      0.613546  \n",
       "9      0.598488  \n",
       "1      0.590407  "
      ]
     },
     "execution_count": 17,
     "metadata": {},
     "output_type": "execute_result"
    }
   ],
   "source": [
    "# Semantic search is still able to give reasonable results even when there are no words in common\n",
    "search_with_embeddings(\"phone chip\", df=df_processors)"
   ]
  },
  {
   "cell_type": "code",
   "execution_count": 18,
   "id": "60b3440f-b2b8-4840-8a88-3d36a5d48d91",
   "metadata": {},
   "outputs": [
    {
     "data": {
      "text/html": [
       "<div>\n",
       "<style scoped>\n",
       "    .dataframe tbody tr th:only-of-type {\n",
       "        vertical-align: middle;\n",
       "    }\n",
       "\n",
       "    .dataframe tbody tr th {\n",
       "        vertical-align: top;\n",
       "    }\n",
       "\n",
       "    .dataframe thead th {\n",
       "        text-align: right;\n",
       "    }\n",
       "</style>\n",
       "<table border=\"1\" class=\"dataframe\">\n",
       "  <thead>\n",
       "    <tr style=\"text-align: right;\">\n",
       "      <th></th>\n",
       "      <th>Microprocessor</th>\n",
       "      <th>Description</th>\n",
       "      <th>similarities</th>\n",
       "    </tr>\n",
       "  </thead>\n",
       "  <tbody>\n",
       "    <tr>\n",
       "      <th>7</th>\n",
       "      <td>Qualcomm Snapdragon</td>\n",
       "      <td>Found in many Android devices, known for its i...</td>\n",
       "      <td>0.745235</td>\n",
       "    </tr>\n",
       "    <tr>\n",
       "      <th>6</th>\n",
       "      <td>Apple M1</td>\n",
       "      <td>Apple's ARM-based processor, known for its per...</td>\n",
       "      <td>0.727412</td>\n",
       "    </tr>\n",
       "    <tr>\n",
       "      <th>2</th>\n",
       "      <td>Intel Pentium</td>\n",
       "      <td>A highly successful microprocessor family know...</td>\n",
       "      <td>0.715093</td>\n",
       "    </tr>\n",
       "  </tbody>\n",
       "</table>\n",
       "</div>"
      ],
      "text/plain": [
       "        Microprocessor                                        Description  \\\n",
       "7  Qualcomm Snapdragon  Found in many Android devices, known for its i...   \n",
       "6             Apple M1  Apple's ARM-based processor, known for its per...   \n",
       "2        Intel Pentium  A highly successful microprocessor family know...   \n",
       "\n",
       "   similarities  \n",
       "7      0.745235  \n",
       "6      0.727412  \n",
       "2      0.715093  "
      ]
     },
     "execution_count": 18,
     "metadata": {},
     "output_type": "execute_result"
    }
   ],
   "source": [
    "# It even works for full fledged questions instead of just keywords\n",
    "search_with_embeddings(\"what processor would smartphones likely use\", df=df_processors)"
   ]
  },
  {
   "cell_type": "code",
   "execution_count": null,
   "id": "c8465352-64d6-46f4-b8b1-18e7b4626da7",
   "metadata": {},
   "outputs": [],
   "source": []
  }
 ],
 "metadata": {
  "kernelspec": {
   "display_name": "Python 3 (ipykernel)",
   "language": "python",
   "name": "python3"
  },
  "language_info": {
   "codemirror_mode": {
    "name": "ipython",
    "version": 3
   },
   "file_extension": ".py",
   "mimetype": "text/x-python",
   "name": "python",
   "nbconvert_exporter": "python",
   "pygments_lexer": "ipython3",
   "version": "3.11.2"
  }
 },
 "nbformat": 4,
 "nbformat_minor": 5
}
