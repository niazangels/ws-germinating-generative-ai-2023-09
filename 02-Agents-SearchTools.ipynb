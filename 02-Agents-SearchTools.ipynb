{
 "cells": [
  {
   "cell_type": "code",
   "execution_count": 1,
   "id": "abd2fa0e-f7cc-448c-ac1f-6fa6ebd00692",
   "metadata": {},
   "outputs": [],
   "source": [
    "import os\n",
    "from langchain.agents import load_tools\n",
    "from langchain.agents import initialize_agent\n",
    "from langchain.llms import OpenAI"
   ]
  },
  {
   "cell_type": "markdown",
   "id": "155ebf4a-66b5-4fe3-9c83-d3bc65e594aa",
   "metadata": {},
   "source": [
    "⚠️⚠️⚠️ **HEADS UP**: You need to get an OpenAI API and a SERP API key\n",
    "\n",
    "                                 \n",
    "**How to get an OpenAI API Key:** \n",
    "\n",
    "https://www.maisieai.com/help/how-to-get-an-openai-api-key-for-chatgpt\n",
    "\n",
    "**How to get a SERP API Key:**\n",
    "\n",
    "https://serpapi.com/ (Register and sign up for free)"
   ]
  },
  {
   "cell_type": "code",
   "execution_count": 7,
   "id": "164a3cbb-8a0b-4831-8ac7-384f1a8e3e9b",
   "metadata": {},
   "outputs": [],
   "source": [
    "os.environ['OPENAI_API_KEY'] = \"Change-to-your-OpenAI-key\"\n",
    "os.environ['SERPAPI_API_KEY'] = 'Change-to-your-SERPAPI-key'"
   ]
  },
  {
   "cell_type": "code",
   "execution_count": 4,
   "id": "6e974e63-7be3-417f-8e3a-0684fdb589c2",
   "metadata": {},
   "outputs": [],
   "source": [
    "llm = OpenAI(temperature=0)\n",
    "\n",
    "# Specify what tools we can use. Langchain library has a lot of tools\n",
    "# https://python.langchain.com/docs/modules/agents/tools/\n",
    "\n",
    "tool_names = [\"serpapi\"]\n",
    "tools = load_tools(tool_names)\n",
    "\n",
    "# Create the agent\n",
    "agent = initialize_agent(tools, llm, agent=\"zero-shot-react-description\", verbose=True)"
   ]
  },
  {
   "cell_type": "code",
   "execution_count": 6,
   "id": "b07a8a52-9b78-4369-89d0-79c0f3d5596b",
   "metadata": {},
   "outputs": [
    {
     "name": "stdout",
     "output_type": "stream",
     "text": [
      "\n",
      "\n",
      "\u001b[1m> Entering new AgentExecutor chain...\u001b[0m\n",
      "\u001b[32;1m\u001b[1;3m I need to find out what state Kimball Electronics India is located in.\n",
      "Action: Search\n",
      "Action Input: \"Kimball Electronics India location\"\u001b[0m\n",
      "Observation: \u001b[36;1m\u001b[1;3mKimball Electronics India Pvt. Ltd., Trivandrum, 1st Floor, Padhmanabham, Technopark.\u001b[0m\n",
      "Thought:\u001b[32;1m\u001b[1;3m I need to find out what language is spoken in Trivandrum.\n",
      "Action: Search\n",
      "Action Input: \"language spoken in Trivandrum\"\u001b[0m\n",
      "Observation: \u001b[36;1m\u001b[1;3mMalayalam is the primary language in Trivandrum. People also understand Tamil and a bit of English.\u001b[0m\n",
      "Thought:\u001b[32;1m\u001b[1;3m I now know the final answer.\n",
      "Final Answer: The native language of the state where Kimball Electronics India is located is Malayalam.\u001b[0m\n",
      "\n",
      "\u001b[1m> Finished chain.\u001b[0m\n"
     ]
    },
    {
     "data": {
      "text/plain": [
       "'The native language of the state where Kimball Electronics India is located is Malayalam.'"
      ]
     },
     "execution_count": 6,
     "metadata": {},
     "output_type": "execute_result"
    }
   ],
   "source": [
    "agent.run(\n",
    "    \"What is the native language of the state where Kimball Electronics India is located?\"\n",
    ")"
   ]
  },
  {
   "cell_type": "code",
   "execution_count": null,
   "id": "42ae5b37-7fdd-482f-836a-59c291e66e0c",
   "metadata": {},
   "outputs": [],
   "source": []
  }
 ],
 "metadata": {
  "kernelspec": {
   "display_name": "Python 3 (ipykernel)",
   "language": "python",
   "name": "python3"
  },
  "language_info": {
   "codemirror_mode": {
    "name": "ipython",
    "version": 3
   },
   "file_extension": ".py",
   "mimetype": "text/x-python",
   "name": "python",
   "nbconvert_exporter": "python",
   "pygments_lexer": "ipython3",
   "version": "3.11.2"
  }
 },
 "nbformat": 4,
 "nbformat_minor": 5
}
